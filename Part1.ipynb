{
 "cells": [
  {
   "cell_type": "code",
   "execution_count": 2,
   "id": "586cf16a-4784-4d89-abdd-2443da0748b1",
   "metadata": {},
   "outputs": [],
   "source": [
    "import numpy as np\n",
    "import pandas as pd\n",
    "import matplotlib.pyplot as plt\n",
    "import seaborn as sns"
   ]
  },
  {
   "cell_type": "code",
   "execution_count": 4,
   "id": "b93ec4aa-60f0-41e2-a956-6c274fe9b3f8",
   "metadata": {},
   "outputs": [],
   "source": [
    "import pandas as pd\n",
    "\n",
    "# List of required columns\n",
    "required_columns = ['id', 'qid1', 'qid2', 'question1', 'question2', 'is_duplicate']\n",
    "\n",
    "# Load the CSV\n",
    "df = pd.read_csv(\n",
    "    'q_quora.csv',\n",
    "    usecols=required_columns,\n",
    "    dtype={'id': int, 'qid1': int, 'qid2': int, 'question1': str, 'question2': str, 'is_duplicate': str},\n",
    "    on_bad_lines='skip',         # skips badly formatted lines (Pandas 1.3+)\n",
    "    low_memory=False\n",
    ")\n"
   ]
  },
  {
   "cell_type": "code",
   "execution_count": 6,
   "id": "90122810-695e-4304-ba3c-67828d9738e9",
   "metadata": {},
   "outputs": [
    {
     "data": {
      "text/plain": [
       "(404351, 6)"
      ]
     },
     "execution_count": 6,
     "metadata": {},
     "output_type": "execute_result"
    }
   ],
   "source": [
    "df.shape"
   ]
  },
  {
   "cell_type": "code",
   "execution_count": 8,
   "id": "a88eb1dc-afa4-4bc1-860b-fba3d7d2e0ef",
   "metadata": {},
   "outputs": [
    {
     "name": "stdout",
     "output_type": "stream",
     "text": [
      "<class 'pandas.core.frame.DataFrame'>\n",
      "RangeIndex: 404351 entries, 0 to 404350\n",
      "Data columns (total 6 columns):\n",
      " #   Column        Non-Null Count   Dtype \n",
      "---  ------        --------------   ----- \n",
      " 0   id            404351 non-null  int64 \n",
      " 1   qid1          404351 non-null  int64 \n",
      " 2   qid2          404351 non-null  int64 \n",
      " 3   question1     404350 non-null  object\n",
      " 4   question2     404349 non-null  object\n",
      " 5   is_duplicate  404351 non-null  object\n",
      "dtypes: int64(3), object(3)\n",
      "memory usage: 18.5+ MB\n"
     ]
    }
   ],
   "source": [
    "df.info()"
   ]
  },
  {
   "cell_type": "code",
   "execution_count": 10,
   "id": "6c927e79-c083-4d3a-8a8b-8a953d4438c2",
   "metadata": {},
   "outputs": [
    {
     "data": {
      "text/plain": [
       "array(['0', '1',\n",
       "       'Do bullets travel faster than the speed of sound when shot from a gun? If not, is it possible? If they do, what gun and how much devastation occurs?',\n",
       "       'My sister told my crush that I like her without me asking her to do so. What should I do now?',\n",
       "       ' how would this change the plot for the whole RR story?',\n",
       "       'What were the greatest achievements of the Persian Empire?',\n",
       "       'What are the best places to visit in Japan to get a feel for their latest technological advancements?',\n",
       "       'My boyfriend wants to have sex with me . And I have mixed feelings regarding that. Should I do it or not ?',\n",
       "       ' mass communication or pharmacy?',\n",
       "       'What if we are actually moving back in time? Can one differentiate a backward flow of time from forward flow?',\n",
       "       \"I am in love with my classmate, I am gay and he's straight, what should I do?\",\n",
       "       'Does Donald Trump get to deduct his campaign expenses from his taxes?',\n",
       "       ' 2) share bonanza', ' is this okay?', 'What are some TL',\n",
       "       'What do Quora users feel about the concept of heaven and hell irrespective of their religions? Can good and bad people end up in same place up there?',\n",
       "       ' how can I plan that?', 'p:1%7C',\n",
       "       \"Has anyone ever heard of a friend forgiving his friend's having sex with his wife, and their being friends again?\",\n",
       "       'Why do people of some races seem to be better at certain sports?',\n",
       "       ' how do recover my password?', ' stocks or a bank account?',\n",
       "       \" Netbeans or Eclipse and whats the difference between these two IDE' s?\",\n",
       "       'Which Indian states are well known in other countries?',\n",
       "       'Are you fonder of Nietzsche or Kierkegaard?',\n",
       "       'My ideal girl is out of my reach. Should I settle for what I can get?',\n",
       "       \" Pope Julius II doesn't die in 1513. How's the world different?\",\n",
       "       \"I'm a woman. How do I make gay friends?\",\n",
       "       ' Tupac or Biggie. Why?', 'Can humans eat cooked chicken bones?',\n",
       "       ' or feel thoughts?', ' how is it so popular?',\n",
       "       ' Am I allowed take the JEE and apply to IIT?',\n",
       "       ' what does this say about the relation between photons and gravity (tons) and which particles would bend upwards?',\n",
       "       \"Why would a girl on earth be easily attracted by 'Superman', but not a guy who has made his career on his own, saves lives or makes lives of people easy?\",\n",
       "       \"Which is India's highest peak?\", ' foundation or BB cream?',\n",
       "       'How is symbolism used in writing?',\n",
       "       \" is it illegal to tamper with my own food (i.e. dropping a pizza in the toilet and then storing it) knowing they'll eat it?\",\n",
       "       'My dad is a professional gambler and he gave my sister and me each $25k. The first one of us who doubles the money anyhow wins another $250k. Should I just bet all at once in Roulette?',\n",
       "       'I have a great idea for an app which requires extensive coding skills, but I dont have any basic knowledge. What should I do?',\n",
       "       'I am a woman in love with my gay best friend. He has said there is something deep in our friendship, but he is gay. How do I get over him?',\n",
       "       ' how should I study chemistry?', ' “Anal sex.”?',\n",
       "       ' everything else is secondary. Am I wrong?',\n",
       "       ' to live in a developed nation?',\n",
       "       'What does it feel like to have a man ejaculate inside your anus (without a condom)?',\n",
       "       ' how do I undo this?', 'Who has the highest IQ in India?',\n",
       "       'Is MCA from IGNOU worthfull course?',\n",
       "       'If Wikipedia crashed and all of it got deleted what would happen to the world?',\n",
       "       'What are the different positions available in a venture capital firm?',\n",
       "       'What does this mean?',\n",
       "       'I would like to incorporate my tech company in Delaware, but operate it out of Canada. My concern is would the company not be considered a residency corporation of Canada, and therefore all Canadian tax law would be applicable?',\n",
       "       'What is the full form of jio?',\n",
       "       'How do I get to talk to a customer care executive of HDFC bank?',\n",
       "       ' in india?',\n",
       "       'Is the universe infinite? If so, what is it expanding into?',\n",
       "       \"Which function returns if we've reached the end of a file (in C)?\",\n",
       "       'What is the difference between while do and do while C#?',\n",
       "       ' what could have been the primary cause of instability and what could be done to correct it?',\n",
       "       ' Kostas Manolas or Alessio Romagnoli?', ' GHZ or RAM?',\n",
       "       'What are some of the highest paying jobs in India?',\n",
       "       'I am self-employed and my parents are the directors of my venture. Can I use their Recommendation Letters while applying for PhD at US universities?',\n",
       "       ' what strategy do you recommend for reinvesting this money given current markets and the upcoming election?',\n",
       "       'Is it bad that I do not want to make a man leave his family because they have children, and I would rather them grow up with a father, as my dad left when I was young to be with another woman and we never had a relationship since then?',\n",
       "       'Does coming from a poor country decrease the likelihood of f1 visa approval?',\n",
       "       'What are some sensible trolls and memes?',\n",
       "       ' what are those dimensions?',\n",
       "       'I got an offer from logistics startup (2014) of 7lpa, as if now am working with HP CTC 5.5 what would be beneficial for me in long run, plz suggest?',\n",
       "       ' in case I encounter difficulties?',\n",
       "       \"I told my best friend I love her, but she's pretending like nothing happened, still as good friends as we were before. How do I attract her?\",\n",
       "       'How does it feel to not sleep for 24-36 hours?',\n",
       "       'How to not too salty fish sauce during salted?',\n",
       "       'I have left Larsen and tubro ltd within 5 month and after 4 month gap, joined another, again after 6 month I left this jobless .what should I do?',\n",
       "       'Is there anything infinite in our universe?',\n",
       "       ' it is a two member LLC. I filed Schedule K1 for last year with my personal tax return and my partner did the same thing as me. Do we still have to file a Form 1065 separately?',\n",
       "       '\\\\', \" will it show up for a UA for my parole in six days' time?\",\n",
       "       ' why?', 'How many IITians are there on Quora?',\n",
       "       \"What does the UK's Labour Party believe should be done to improve mental health care?\",\n",
       "       ' how do they get energy for their movement?',\n",
       "       'How many fund provide for m l a?', \" which one's better?\",\n",
       "       'I am 22 and I am only 157 cm.How can I increase my height up to 168 cm?',\n",
       "       \"Which is the world's oldest civilization?\", 'a+c=13',\n",
       "       ' doEs this mean she block me?', ' the system or the society?',\n",
       "       'Was time created first or universe?',\n",
       "       \" I was added to all her groups and her account's blocked settings migrated into mine. How do I solve this? How do I ensure she's not receiving messages meant for me?\",\n",
       "       'How do I change who I am?',\n",
       "       'Why would an intelligent person vote for Donald Trump?',\n",
       "       ' tailgating a slow driver or passing a the slow driver in a no passing zone?',\n",
       "       ' surely it must be expanding into something?',\n",
       "       'What is the day schedule of a full time home tutor?',\n",
       "       'As an American, how would i procure a Land Rover Discovery diesel?',\n",
       "       \"What were Sir Francis Bacon's most important contributions to the scientific revolution?\",\n",
       "       ' review of the literature',\n",
       "       ' the Nvidia GTX 1080 or the Nvidia Quadro M4000?',\n",
       "       ' what should I do?',\n",
       "       'Is it better to go for a job just after your graduation?',\n",
       "       ' I would appreciate if the answer explains physical significance?',\n",
       "       \"How do you deal with always being in someone's shadow?\",\n",
       "       \"How does one speak to a Vodafone customer care executive quickly? I'm sick and tired of waiting and listening to the same monotonous IVRS!!\",\n",
       "       \" is it wrong to live most of our life in dream if it's not possible to experience the same in reality?\",\n",
       "       ' premise: God is true', 'How can I stop loving my friend?',\n",
       "       ' one dimension is for time and the others space. What are the other dimensions?',\n",
       "       'Do employees at Tribune Publishing Company have a good work-life balance? Does this differ across positions and departments?',\n",
       "       'What would be an ideal sample size to get a more accurate exit poll estimate for a country like India and how does it compare with the largest exit polls conducted typically?',\n",
       "       \" he's straight. What should I do?\", ' her/his career goals? How',\n",
       "       \"My employer didn't pay me, but had filed income tax as if I was paid. What should I do now?\",\n",
       "       \"I don't have jio sim no. on its pack. what should I do?\",\n",
       "       'I am thinking of starting a business to provide stalking services via social media for clients looking to keep tabs on friends and family. Is this a feasible idea, and is there a market for it?',\n",
       "       'If society approves gay marriage, should it approve siblings to get married? How are these two relationships different from a moral viewpoint?',\n",
       "       'How can i find a partial sum formula for: [math]1\\\\cdot 1!+2\\\\cdot 2!+3\\\\cdot 3!\\\\ldots n\\\\cdot n![/math]?',\n",
       "       'What are the options for someone who is very good in swimming, like an Olympic player, if they get caught in a sea wreck? Will their swimming skills help them to survive?',\n",
       "       'What is the relationship between variance and standard deviation?',\n",
       "       'What will be your starcast if Mahabharat is made in tollywood?',\n",
       "       \"I have heard that most Indians don't use toilet paper, is this true?\",\n",
       "       ' I used to work for them as a cashier. What should be my next steps to find another job?',\n",
       "       'Why do I love Cersei Lannister?',\n",
       "       \"I wouldn't say I'm depressed, but I have a lot of anxiety and struggle to find motivation for things. What should I do?\",\n",
       "       ' will it hurt or feel good?',\n",
       "       'How is the instinct to allow someone to hurt you after hurting them natural?',\n",
       "       \" lease ending so I stopped paying the rent. What will happen if he doesn't my location as I moving to another state?\",\n",
       "       ' what would you tell your 14-year-old self?',\n",
       "       ' M.Arch or M.Plan?',\n",
       "       ' what is the best topic that i may present for students?',\n",
       "       'Who is the artist who created this image?',\n",
       "       ' can I work from UK remotely for 2-4 weeks per year?',\n",
       "       ' Go Pro Karma or DJI Mavic?',\n",
       "       'Is it OK if a teacher says, \"I don\\'t know\" to students?',\n",
       "       '3 mean?', 'What is the importance of molar mass?',\n",
       "       'How do presidential elections work in the US, how do the compare to the presidential elections in Nicaragua?',\n",
       "       \" it doesn't happen if I crash)?\",\n",
       "       ' how much of a share should I give him?',\n",
       "       \"How do I treat my 8-year-old younger brother if I don't get time to guide him?\",\n",
       "       'How do I develop a game or an app using any programming editor? (Turbo C, Visual Studio, Eclipse, etc.)',\n",
       "       'What is the best way to get rid of a 2-3 week pregnancy?',\n",
       "       ' please advice how to go about it?', ' ha',\n",
       "       'What is the difference between \";\" and \",\"?',\n",
       "       ' now she is totally avoiding me. What do I do?',\n",
       "       ' there is a way to eliminate tuition debt within a year. Ask for more information.',\n",
       "       \" by achieving success under any circumstances or by finding satisfaction in what we have!' Which way is correct?\",\n",
       "       ' ?', ' which is the best time to do so?',\n",
       "       ' can anyone suggest a better workflow for task management based on human psychology?',\n",
       "       'Where did Vulncat by HP Fortify disappear?',\n",
       "       'Is there any app to adjust my rough voice to better?',\n",
       "       'What is it like to study and live in Indonesia as a foreign student?',\n",
       "       'What is better to earn good money for a fresher, a job or a business?',\n",
       "       'Is Mark Zuckerberg the best programmer in the world?',\n",
       "       ' are they also against spay and neuter?',\n",
       "       'What are some of the best presidential campaigns in U.S. history?',\n",
       "       'What would happen if I left college for a semester? Would I still be able to go back and pick up where I left off?',\n",
       "       ' Finkibi & Spinko. : How long does it take to play a game of finkeybe?',\n",
       "       ' to be street smart or book smart?',\n",
       "       'What would happen if India stopped the water flowing into Pakistan? How devastating would it be for Pakistan and how would the international community react to it?',\n",
       "       ' are there any problems that have arisen? Where can I find ratings?',\n",
       "       'I have a great app idea. What should I do with it? What are my choices?',\n",
       "       ' 33x33=?',\n",
       "       ' is it true that dogs know beforehand that their owners are coming home?',\n",
       "       \" isn't its too late for me to learn English grammar?\",\n",
       "       'I just found out after 5 years of marriage that my wife never really loved me. We had a daughter together as well, but still she feels nothing towards me. How do I handle this?',\n",
       "       ' “This question needs improving.” What do you do?',\n",
       "       'What are the politics of The Daily Beast? How are they applied?',\n",
       "       'If I smoked meth for a month how long for a UA to show clean?',\n",
       "       'What do you think about the Galaxy Note 4?',\n",
       "       \"I'm a latina 23 years old woman (Pear body) ... I've been gaining weight the last months and I want to start losing it, to feel confident and also for my health (I have diabetic people in my family), is there any diet and exercises that I could try?\",\n",
       "       ' mean in Java?', 'What does this mean in C?',\n",
       "       'Was  Jesus Christ born on earth?',\n",
       "       'How do I build back links for my WordPress site?',\n",
       "       ' Bank or Stocks?',\n",
       "       ' press a button & then leave & recollect them later with clothes completely dry? Is it available in India?',\n",
       "       ' what is the value per view?',\n",
       "       'Is it irrational to walk on a college campus when going to classes?',\n",
       "       ' concerning his aspirations as a presidential candidate?',\n",
       "       ' would that be a defeat or a victory for democracy?',\n",
       "       'What kind of an organic solvent', ' should I stay or go home?',\n",
       "       \" do you have any scientific and tangible evidence that God doesn't exist?\",\n",
       "       'Why are so many IITians on Quora?',\n",
       "       'What is exactly BIT FIELDS when it is used?',\n",
       "       'Is violence innate in the human race? What purpose did or does it serve? Why does it persist?',\n",
       "       'If you have to choose another biomolecule to make an enzyme other than proteins what would be your choice and why?',\n",
       "       'What are some interesting cases of income tax which changed the tax laws in India?',\n",
       "       \"What's the difference between washboard abs and six pack abs?\",\n",
       "       'Anti-Muslim activist Katharine Gorka named to Homeland Security Transition Team',\n",
       "       ' how many pots and pans do you usually have to wash up afterwards and how many remain unwashed after the coffee is served?',\n",
       "       \"My boyfriend wants to try anal but I don't know how it feels, what should I do?\",\n",
       "       'Is Herschel crater on the moon Mimas needed to be created at special period of the formation, in order for it to be \"frozen\" at this particular shape?',\n",
       "       'What is the difference between variance and standard deviation?',\n",
       "       'I<cards', ' AWA-3.5)?',\n",
       "       ' did he make a big enough impact during his time on Earth?',\n",
       "       'Why was William S. Burroughs such an influential writer?',\n",
       "       \"I'm a 13 year old lesbian and am in love with my best, straight friend. What do I do?\",\n",
       "       \"How does Trump plan on not touching Social Security when he doesn't want tax increases to pay for that?\",\n",
       "       'What is the difference between standard deviation and variance? Gives an explaination with example?',\n",
       "       'How do presidential elections work in the US, how do the compare to the presidential elections in Uruguay?',\n",
       "       'What is it like to be a submariner?',\n",
       "       'When a group of people are facing mass execution why do they not usually rise up to save themselves?',\n",
       "       ' how do I do that?',\n",
       "       \" at least 2 bottles of spirits a week and 5 pints a night. I'm quiting for 30 days. What will that do for me?\",\n",
       "       'I am 17. I am a very motivated type of person with many leadership skills and I want to become an entrepreneur in business management. How can I make money work for me in my favor? For example how do I turn my assets into money makers over spending my money on liabilities?',\n",
       "       ' running or walking? What are some cardio exercises for weight gain?',\n",
       "       ' what would happen if someone jumped into it?',\n",
       "       'How will the presidential election affect FOREX?',\n",
       "       'I called airtel customer care, got a reply from BJP, Why?',\n",
       "       '-2 0 2', ' did Mandela sell out Black people?',\n",
       "       ' a low pitch sound or a high pitch sound? Why?',\n",
       "       ' 24 hours later my finger is still tingly/numb?',\n",
       "       'How do I get a job in Microsoft or Google after complete a B.Tech in computer science?',\n",
       "       'What is the difference between \":=\" and \"::=\" ?',\n",
       "       'Does the apocalypse have a soundtrack?',\n",
       "       \" that you just have to lose fat overall. So how do you lose chin fat if you're fit?\",\n",
       "       'If I download movies or games using utorrent in Delhi, India, is it illegal or is there any fine I have to pay if they track me down? Is this true?',\n",
       "       'Who will win: lizard or frog?',\n",
       "       'Had Kashmir been part of Pakistan would India behave the same way as Pakistan does?',\n",
       "       ' is there any fix?',\n",
       "       ' yet why does Donald  Trump stir segments of white people in the GOP base ?',\n",
       "       ' I’m extremely uncomfortable with it. What should I do?',\n",
       "       ' what does it mean?',\n",
       "       'What is the most frustrating thing about your job or business? In other words, what keeps you up at night?',\n",
       "       ' The Clone Wars?',\n",
       "       ' While she is away at college how can I transfer money from my account to hers?',\n",
       "       'DR version of World War I?',\n",
       "       ' what is the best answer we should give to confirm our selection?',\n",
       "       \"What was Steve Jobs' cause of death?\",\n",
       "       'What is current account and savings account?', ' what do I do?',\n",
       "       ' what is your advice for me?',\n",
       "       'What were those specific steps of the government in the 1950-60 that amounted to the imposition of Hindi?',\n",
       "       ' and seem like Muslims worship the Kaaba?',\n",
       "       \"I am 19. I think I might be one week pregnant. I am really scared. I don't want my parents to get to know. I live in Bangalore. What do I do?\",\n",
       "       'Who is the most beautiful woman on Game of Thrones?',\n",
       "       ' when he looks like this below?', \"' mean?\",\n",
       "       \"I am 7 weeks pregnant. I have been wanting to have a baby for a while now. But now that I am having a baby I constantly keep feeling like I'm stuck and I don't want it. What is wrong with me?\",\n",
       "       'Since the beginning, I have supported Sanders and was saddened when he dropped out. Why should I vote for you, rather than vote for Jill stein?',\n",
       "       ' how do I keep track of what my children do from my desk?',\n",
       "       ' can we stop them?', ' are they really kissing?',\n",
       "       ' Deadline being this september to give both exams to apply for fall 2017?',\n",
       "       'What is a scope resolution operator in PHP? How is it used?',\n",
       "       'What advice would you give to your 18-year-old self?',\n",
       "       ' Information science (IE) at Ambedkar Institute of technology or CSE at Global Academy of Technology?',\n",
       "       'How do I get a six pack?',\n",
       "       \"Atheists, can you please post the evidence you have discovered that makes you believe that God doesn't exist?\",\n",
       "       'What is your college life story in brief?',\n",
       "       'How does work address affect you when filing state taxes?',\n",
       "       'What is an antenna?', ' 3 sauces', ' Arjit Singh or Atif Aslam?',\n",
       "       ' i.e. increase the quality of the video without downloading the video?',\n",
       "       \"Why won't my boyfriend have sex with me?\",\n",
       "       'Can I get MBBS seat in private medical colleges with 316 marks in NEET 2016?',\n",
       "       ' then is patience a virtue?', ' Marshmallow?',\n",
       "       ' the second has sequence number 170.',\n",
       "       'Can you suggest an order in which I should go about learning chords?',\n",
       "       'Is Pokemon Go the first of its kind and why is it so popular?',\n",
       "       ' Audio Technica m20x or Sennheiser 203?',\n",
       "       'If an audio file is converted from MP3 to WAV back to the same bitrate MP3, will there be any loss in quality relative to the original file?',\n",
       "       \"I had sex with my gf without using condom on the 25th sept Morning, she had ipill at 26th sept night, She hasn't got her period yet & its 6th October  (usually she gets period in the 1st week of the month). I'm worried, has she got pregnant?\",\n",
       "       \"I'm gay I feel in love with a straight boy. He is also my friend. What should I do?\",\n",
       "       'Here is my new discovery in math which is true but impossible to prove. 2 never equal = C^n where C<2 ?',\n",
       "       'What makes Pokémon GO so popular?',\n",
       "       \" she says she's not feeling us anymore and wants to break up. Is it time to move on?\",\n",
       "       '}[/math] and [math]\\\\texttt{if(1) {}}[/math]?',\n",
       "       ' should I buy the MacBook Pro MGXC2HN/A or wait for the 2015 model to be released?',\n",
       "       \"How would we solve the differential equation y'sinx=ylogy?\",\n",
       "       ' they eventually stop working. Why is this?', ' in C++?',\n",
       "       \"How long/ loud would I have to scream at a mug of water to make it boil, assuming the mug won't crack?\",\n",
       "       \" it only has one tick and I can't see the last seen time - Have I been blocked?\",\n",
       "       \"A Song of Ice and Fire: Is R'hllor a real god?\",\n",
       "       'How can judge take fresh cognizance in Indian courts based on new supplementary chargesheet?',\n",
       "       \"Why didn't Gimli know none of his kin were alive at Moria?\",\n",
       "       ' how and why has still life developed in painting?',\n",
       "       'Is it better to get a car loan through a dealership or a bank?',\n",
       "       ' is God a humanoid? Could a more-than-three-dimensional being even be humanoid?',\n",
       "       'Can you still have CPM ads on a single page application?',\n",
       "       'I failed 6 classes in college, what should I do?',\n",
       "       'What does an expression involving multiple post/pre decrement/increment operators evaluate to in C and C++?',\n",
       "       'dx[/math]?', 'How do I solve the given differential equation?',\n",
       "       '-',\n",
       "       'Where can I buy a cheap MacBook (Air or Pro) in the US/Canada?',\n",
       "       'What is the legacy of William S. Burroughs?',\n",
       "       \"' meaning a new row in the matrix. For which value(s) of x is rank(D) = 2?\",\n",
       "       ' what will i=i++ do to i?',\n",
       "       'What is the difference between the representation of variance and standard deviation?',\n",
       "       ' is this unusual or just ignored?',\n",
       "       'What is the difference between \"&\" and \"and\"?', ' -C=O or CH2?',\n",
       "       ' is it worth the extra cost?'], dtype=object)"
      ]
     },
     "execution_count": 10,
     "metadata": {},
     "output_type": "execute_result"
    }
   ],
   "source": [
    "df['is_duplicate'].unique()"
   ]
  },
  {
   "cell_type": "code",
   "execution_count": 12,
   "id": "85b516fc-ccf5-4dca-a9c1-44195e2b3c2d",
   "metadata": {},
   "outputs": [],
   "source": [
    "df = df[df['is_duplicate'].isin(['0', '1'])]\n",
    "\n",
    "# Convert is_duplicate to int\n",
    "df['is_duplicate'] = df['is_duplicate'].astype(int)"
   ]
  },
  {
   "cell_type": "code",
   "execution_count": 14,
   "id": "c8a8d65f-2577-49df-801d-23bb851cc029",
   "metadata": {},
   "outputs": [
    {
     "name": "stdout",
     "output_type": "stream",
     "text": [
      "<class 'pandas.core.frame.DataFrame'>\n",
      "Index: 404015 entries, 0 to 404350\n",
      "Data columns (total 6 columns):\n",
      " #   Column        Non-Null Count   Dtype \n",
      "---  ------        --------------   ----- \n",
      " 0   id            404015 non-null  int64 \n",
      " 1   qid1          404015 non-null  int64 \n",
      " 2   qid2          404015 non-null  int64 \n",
      " 3   question1     404014 non-null  object\n",
      " 4   question2     404013 non-null  object\n",
      " 5   is_duplicate  404015 non-null  int64 \n",
      "dtypes: int64(4), object(2)\n",
      "memory usage: 21.6+ MB\n"
     ]
    }
   ],
   "source": [
    "df.info()"
   ]
  },
  {
   "cell_type": "code",
   "execution_count": 16,
   "id": "e132e228-f5da-4528-8ea2-8787e56c9e90",
   "metadata": {},
   "outputs": [
    {
     "data": {
      "text/plain": [
       "(404015, 6)"
      ]
     },
     "execution_count": 16,
     "metadata": {},
     "output_type": "execute_result"
    }
   ],
   "source": [
    "df.shape"
   ]
  },
  {
   "cell_type": "code",
   "execution_count": 18,
   "id": "4defdaea-01f3-4779-a9ef-73a285a99796",
   "metadata": {},
   "outputs": [
    {
     "data": {
      "text/plain": [
       "id              0\n",
       "qid1            0\n",
       "qid2            0\n",
       "question1       1\n",
       "question2       2\n",
       "is_duplicate    0\n",
       "dtype: int64"
      ]
     },
     "execution_count": 18,
     "metadata": {},
     "output_type": "execute_result"
    }
   ],
   "source": [
    "df.isnull().sum()"
   ]
  },
  {
   "cell_type": "code",
   "execution_count": 20,
   "id": "7cb11a5f-6dcc-4ba0-95ed-710995eed76b",
   "metadata": {},
   "outputs": [
    {
     "data": {
      "text/plain": [
       "0"
      ]
     },
     "execution_count": 20,
     "metadata": {},
     "output_type": "execute_result"
    }
   ],
   "source": [
    "df.duplicated().sum()"
   ]
  },
  {
   "cell_type": "code",
   "execution_count": 22,
   "id": "498af596-f129-4bd7-be14-be88a4f574d3",
   "metadata": {},
   "outputs": [
    {
     "data": {
      "text/plain": [
       "is_duplicate\n",
       "0    254748\n",
       "1    149267\n",
       "Name: count, dtype: int64"
      ]
     },
     "execution_count": 22,
     "metadata": {},
     "output_type": "execute_result"
    }
   ],
   "source": [
    "df['is_duplicate'].value_counts()"
   ]
  },
  {
   "cell_type": "code",
   "execution_count": 24,
   "id": "f5402252-6290-44ae-98b3-4814de953e00",
   "metadata": {},
   "outputs": [
    {
     "name": "stdout",
     "output_type": "stream",
     "text": [
      "is_duplicate\n",
      "0    254748\n",
      "1    149267\n",
      "Name: count, dtype: int64\n",
      "is_duplicate\n",
      "0    63.054095\n",
      "1    36.945905\n",
      "Name: count, dtype: float64\n"
     ]
    },
    {
     "data": {
      "text/plain": [
       "<Axes: xlabel='is_duplicate'>"
      ]
     },
     "execution_count": 24,
     "metadata": {},
     "output_type": "execute_result"
    },
    {
     "data": {
      "image/png": "[encoded data removed]",
      "text/plain": [
       "<Figure size 640x480 with 1 Axes>"
      ]
     },
     "metadata": {},
     "output_type": "display_data"
    }
   ],
   "source": [
    "# Distribution of duplicate and non-duplicate questions\n",
    "print(df['is_duplicate'].value_counts())\n",
    "print((df['is_duplicate']. value_counts()/df ['is_duplicate']. count ()) *100)\n",
    "df['is_duplicate']. value_counts(). plot (kind='bar')"
   ]
  },
  {
   "cell_type": "code",
   "execution_count": 26,
   "id": "e7a9e902-2cd1-40b9-a80b-cfc1733a283a",
   "metadata": {},
   "outputs": [
    {
     "name": "stdout",
     "output_type": "stream",
     "text": [
      "Number of unique questions 789154\n",
      "Number of questions getting repeated 13675\n"
     ]
    }
   ],
   "source": [
    "#Repeated Questions\n",
    "\n",
    "qid = pd. Series(df['qid1']. tolist() + df['qid2']. tolist())\n",
    "print( 'Number of unique questions'\n",
    ", np. unique (qid) .shape[0])\n",
    "x = qid. value_counts ()>1\n",
    "print( 'Number of questions getting repeated', x[x]. shape [0])"
   ]
  },
  {
   "cell_type": "code",
   "execution_count": 28,
   "id": "fafdc233-4fff-47d8-b375-0c348694c628",
   "metadata": {},
   "outputs": [
    {
     "data": {
      "image/png": "[encoded data removed]",
      "text/plain": [
       "<Figure size 640x480 with 1 Axes>"
      ]
     },
     "metadata": {},
     "output_type": "display_data"
    }
   ],
   "source": [
    "# Repeated questions histogram\n",
    "plt.hist(qid.value_counts().values,bins=160)\n",
    "plt.yscale('log')\n",
    "plt.show()"
   ]
  }
 ],
 "metadata": {
  "kernelspec": {
   "display_name": "Python 3 (ipykernel)",
   "language": "python",
   "name": "python3"
  },
  "language_info": {
   "codemirror_mode": {
    "name": "ipython",
    "version": 3
   },
   "file_extension": ".py",
   "mimetype": "text/x-python",
   "name": "python",
   "nbconvert_exporter": "python",
   "pygments_lexer": "ipython3",
   "version": "3.12.4"
  }
 },
 "nbformat": 4,
 "nbformat_minor": 5
}
